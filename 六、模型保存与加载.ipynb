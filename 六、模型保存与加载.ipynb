{
 "cells": [
  {
   "cell_type": "code",
   "execution_count": 1,
   "id": "c9e91145",
   "metadata": {},
   "outputs": [],
   "source": [
    "import torch\n",
    "from torch import nn"
   ]
  },
  {
   "cell_type": "code",
   "execution_count": 14,
   "id": "07b2c81f",
   "metadata": {},
   "outputs": [
    {
     "name": "stdout",
     "output_type": "stream",
     "text": [
      "NeuralNetwork(\n",
      "  (linear): Linear(in_features=6, out_features=1, bias=True)\n",
      ")\n"
     ]
    }
   ],
   "source": [
    "class NeuralNetwork(nn.Module):\n",
    "    def __init__(self,input):\n",
    "        super(NeuralNetwork, self).__init__()\n",
    "        self.linear =  nn.Linear(input,1)\n",
    "\n",
    "    def forward(self, x):\n",
    "        y = torch.sigmoid(self.linear(x))\n",
    "        return y\n",
    "\n",
    "model = NeuralNetwork(6)\n",
    "print(model)"
   ]
  },
  {
   "cell_type": "code",
   "execution_count": 15,
   "id": "2434a39f",
   "metadata": {},
   "outputs": [
    {
     "name": "stdout",
     "output_type": "stream",
     "text": [
      "Parameter containing:\n",
      "tensor([[ 0.3216,  0.1764, -0.2877,  0.0224,  0.0876, -0.1029]],\n",
      "       requires_grad=True)\n",
      "Parameter containing:\n",
      "tensor([-0.3901], requires_grad=True)\n"
     ]
    }
   ],
   "source": [
    "for param in model.parameters():\n",
    "    print(param)"
   ]
  },
  {
   "cell_type": "code",
   "execution_count": 5,
   "id": "c03eda96",
   "metadata": {},
   "outputs": [],
   "source": [
    "file = 'model.pth'\n",
    "torch.save(model,file)"
   ]
  },
  {
   "cell_type": "code",
   "execution_count": 9,
   "id": "ca996cd4",
   "metadata": {},
   "outputs": [
    {
     "data": {
      "text/plain": [
       "NeuralNetwork(\n",
       "  (linear): Linear(in_features=6, out_features=1, bias=True)\n",
       ")"
      ]
     },
     "execution_count": 9,
     "metadata": {},
     "output_type": "execute_result"
    }
   ],
   "source": [
    "model_load = torch.load(file)\n",
    "model_load.eval()"
   ]
  },
  {
   "cell_type": "code",
   "execution_count": 10,
   "id": "a0864cee",
   "metadata": {},
   "outputs": [
    {
     "name": "stdout",
     "output_type": "stream",
     "text": [
      "Parameter containing:\n",
      "tensor([[ 0.0359, -0.1966,  0.2582, -0.0995,  0.1117, -0.2410]],\n",
      "       requires_grad=True)\n",
      "Parameter containing:\n",
      "tensor([-0.0774], requires_grad=True)\n"
     ]
    }
   ],
   "source": [
    "for param in model_load.parameters():\n",
    "    print(param)"
   ]
  },
  {
   "cell_type": "code",
   "execution_count": 16,
   "id": "dbd45315",
   "metadata": {},
   "outputs": [],
   "source": [
    "# 仅保存参数\n",
    "torch.save(model.state_dict(),file)"
   ]
  },
  {
   "cell_type": "code",
   "execution_count": 17,
   "id": "f25f9bb4",
   "metadata": {},
   "outputs": [
    {
     "data": {
      "text/plain": [
       "NeuralNetwork(\n",
       "  (linear): Linear(in_features=6, out_features=1, bias=True)\n",
       ")"
      ]
     },
     "execution_count": 17,
     "metadata": {},
     "output_type": "execute_result"
    }
   ],
   "source": [
    "model_load= NeuralNetwork(6)\n",
    "model_load.load_state_dict(torch.load(file))\n",
    "model_load.eval()"
   ]
  },
  {
   "cell_type": "code",
   "execution_count": 18,
   "id": "5aac4d7d",
   "metadata": {},
   "outputs": [
    {
     "name": "stdout",
     "output_type": "stream",
     "text": [
      "Parameter containing:\n",
      "tensor([[ 0.3216,  0.1764, -0.2877,  0.0224,  0.0876, -0.1029]],\n",
      "       requires_grad=True)\n",
      "Parameter containing:\n",
      "tensor([-0.3901], requires_grad=True)\n"
     ]
    }
   ],
   "source": [
    "for param in model_load.parameters():\n",
    "    print(param)"
   ]
  },
  {
   "cell_type": "code",
   "execution_count": 19,
   "id": "d4aefcf8",
   "metadata": {},
   "outputs": [
    {
     "data": {
      "text/plain": [
       "OrderedDict([('linear.weight',\n",
       "              tensor([[ 0.3216,  0.1764, -0.2877,  0.0224,  0.0876, -0.1029]])),\n",
       "             ('linear.bias', tensor([-0.3901]))])"
      ]
     },
     "execution_count": 19,
     "metadata": {},
     "output_type": "execute_result"
    }
   ],
   "source": [
    "model.state_dict()"
   ]
  },
  {
   "cell_type": "markdown",
   "id": "2143c44f",
   "metadata": {},
   "source": [
    "**设置checkpoint**"
   ]
  },
  {
   "cell_type": "code",
   "execution_count": 22,
   "id": "1597dad8",
   "metadata": {},
   "outputs": [],
   "source": [
    "model = NeuralNetwork(6)\n",
    "optimizer = torch.optim.SGD(model.parameters(),lr=0.01)\n",
    "\n",
    "checkpoint = {\n",
    "    \"epoch\":50,\n",
    "    \"model_state\":model.state_dict(),\n",
    "    \"optim_state\":optimizer.state_dict()\n",
    "}"
   ]
  },
  {
   "cell_type": "code",
   "execution_count": 23,
   "id": "cc3b9789",
   "metadata": {},
   "outputs": [],
   "source": [
    "torch.save(checkpoint,\"checkpoint.pth\")"
   ]
  },
  {
   "cell_type": "code",
   "execution_count": 25,
   "id": "2a20fcac",
   "metadata": {},
   "outputs": [],
   "source": [
    "model_resume = model = NeuralNetwork(6)\n",
    "optimizer_resume = torch.optim.SGD(model_resume.parameters(),lr=0)\n",
    "\n",
    "load_checkpoint = torch.load(\"checkpoint.pth\")\n",
    "epoch = load_checkpoint['epoch']\n",
    "model_resume.load_state_dict(load_checkpoint['model_state'])\n",
    "optimizer_resume.load_state_dict(load_checkpoint['optim_state'])"
   ]
  },
  {
   "cell_type": "code",
   "execution_count": null,
   "id": "388b5666",
   "metadata": {},
   "outputs": [],
   "source": []
  }
 ],
 "metadata": {
  "kernelspec": {
   "display_name": "Python 3",
   "language": "python",
   "name": "python3"
  },
  "language_info": {
   "codemirror_mode": {
    "name": "ipython",
    "version": 3
   },
   "file_extension": ".py",
   "mimetype": "text/x-python",
   "name": "python",
   "nbconvert_exporter": "python",
   "pygments_lexer": "ipython3",
   "version": "3.9.4"
  },
  "toc": {
   "base_numbering": 1,
   "nav_menu": {},
   "number_sections": false,
   "sideBar": true,
   "skip_h1_title": false,
   "title_cell": "Table of Contents",
   "title_sidebar": "Contents",
   "toc_cell": false,
   "toc_position": {},
   "toc_section_display": true,
   "toc_window_display": false
  }
 },
 "nbformat": 4,
 "nbformat_minor": 5
}
