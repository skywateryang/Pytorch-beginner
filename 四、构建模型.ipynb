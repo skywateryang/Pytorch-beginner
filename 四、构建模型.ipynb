{
 "cells": [
  {
   "cell_type": "code",
   "execution_count": 19,
   "id": "aa6e2fe9",
   "metadata": {},
   "outputs": [],
   "source": [
    "from torchsummary import summary\n",
    "from torch import nn\n",
    "import torch\n",
    "from collections import OrderedDict"
   ]
  },
  {
   "cell_type": "markdown",
   "id": "719e8576",
   "metadata": {},
   "source": [
    "### 4.1 定义模型类"
   ]
  },
  {
   "cell_type": "code",
   "execution_count": 5,
   "id": "8c0c0050",
   "metadata": {},
   "outputs": [],
   "source": [
    "class NeuralNetwork(nn.Module):\n",
    "    def __init__(self):\n",
    "        super(NeuralNetwork, self).__init__()\n",
    "        # 压平输入数据\n",
    "        self.flatten = nn.Flatten()\n",
    "        self.linear_relu_stack = nn.Sequential(\n",
    "            nn.Linear(28*28, 512),\n",
    "            nn.ReLU(),\n",
    "            nn.Linear(512, 512),\n",
    "            nn.ReLU(),\n",
    "            nn.Linear(512, 10),\n",
    "            nn.ReLU()\n",
    "        )\n",
    "\n",
    "    def forward(self, x):\n",
    "        x = self.flatten(x)\n",
    "        logits = self.linear_relu_stack(x)\n",
    "        return logits\n",
    "    \n",
    "model = NeuralNetwork()"
   ]
  },
  {
   "cell_type": "code",
   "execution_count": 18,
   "id": "92c7d259",
   "metadata": {},
   "outputs": [
    {
     "name": "stdout",
     "output_type": "stream",
     "text": [
      "----------------------------------------------------------------\n",
      "        Layer (type)               Output Shape         Param #\n",
      "================================================================\n",
      "           Flatten-1                  [64, 784]               0\n",
      "            Linear-2                  [64, 512]         401,920\n",
      "              ReLU-3                  [64, 512]               0\n",
      "            Linear-4                  [64, 512]         262,656\n",
      "              ReLU-5                  [64, 512]               0\n",
      "            Linear-6                   [64, 10]           5,130\n",
      "              ReLU-7                   [64, 10]               0\n",
      "================================================================\n",
      "Total params: 669,706\n",
      "Trainable params: 669,706\n",
      "Non-trainable params: 0\n",
      "----------------------------------------------------------------\n",
      "Input size (MB): 0.19\n",
      "Forward/backward pass size (MB): 1.39\n",
      "Params size (MB): 2.55\n",
      "Estimated Total Size (MB): 4.14\n",
      "----------------------------------------------------------------\n"
     ]
    }
   ],
   "source": [
    "summary(model,input_size=(1, 28, 28),batch_size=64)"
   ]
  },
  {
   "cell_type": "markdown",
   "id": "097a42c1",
   "metadata": {},
   "source": [
    "### 4.2 定义模型容器"
   ]
  },
  {
   "cell_type": "markdown",
   "id": "dfd40d99",
   "metadata": {},
   "source": [
    "#### Sequential"
   ]
  },
  {
   "cell_type": "code",
   "execution_count": 42,
   "id": "fa4fcc31",
   "metadata": {},
   "outputs": [],
   "source": [
    "X = torch.randn((1,784))"
   ]
  },
  {
   "cell_type": "code",
   "execution_count": 47,
   "id": "0aa6108a",
   "metadata": {},
   "outputs": [],
   "source": [
    "torch.manual_seed(42)\n",
    "model1 = nn.Sequential(\n",
    "            nn.Linear(28*28, 512),\n",
    "            nn.ReLU(),\n",
    "            nn.Linear(512, 512),\n",
    "            nn.ReLU(),\n",
    "            nn.Linear(512, 10),\n",
    "            nn.ReLU()\n",
    "        )"
   ]
  },
  {
   "cell_type": "code",
   "execution_count": 49,
   "id": "9767ec67",
   "metadata": {},
   "outputs": [],
   "source": [
    "torch.manual_seed(42)\n",
    "layer2=OrderedDict([\n",
    "    ('linear1',nn.Linear(28*28, 512)),\n",
    "    ('relu1',nn.ReLU()),\n",
    "    ('linear2',nn.Linear(512, 512)),\n",
    "    ('relu2',nn.ReLU()),\n",
    "    ('linear3',nn.Linear(512, 10)),\n",
    "    ('relu3',nn.ReLU())\n",
    "])\n",
    "model2 = nn.Sequential(layer2)"
   ]
  },
  {
   "cell_type": "code",
   "execution_count": 52,
   "id": "d9d66c8d",
   "metadata": {},
   "outputs": [],
   "source": [
    "torch.manual_seed(42)\n",
    "model3=nn.Sequential()\n",
    "model3.add_module('linear1',nn.Linear(28*28, 512))\n",
    "model3.add_module('relu1',nn.ReLU())\n",
    "model3.add_module('linear2',nn.Linear(512, 512))\n",
    "model3.add_module('relu2',nn.ReLU())\n",
    "model3.add_module('linear3',nn.Linear(512, 10))\n",
    "model3.add_module('relu3',nn.ReLU())"
   ]
  },
  {
   "cell_type": "code",
   "execution_count": 54,
   "id": "9d613903",
   "metadata": {},
   "outputs": [
    {
     "data": {
      "text/plain": [
       "(tensor([[0.0000, 0.0066, 0.0020, 0.0000, 0.0000, 0.0000, 0.0131, 0.0932, 0.0000,\n",
       "          0.0439]], grad_fn=<ReluBackward0>),\n",
       " tensor([[0.0000, 0.0066, 0.0020, 0.0000, 0.0000, 0.0000, 0.0131, 0.0932, 0.0000,\n",
       "          0.0439]], grad_fn=<ReluBackward0>),\n",
       " tensor([[0.0000, 0.0066, 0.0020, 0.0000, 0.0000, 0.0000, 0.0131, 0.0932, 0.0000,\n",
       "          0.0439]], grad_fn=<ReluBackward0>))"
      ]
     },
     "execution_count": 54,
     "metadata": {},
     "output_type": "execute_result"
    }
   ],
   "source": [
    "model1(X), model2(X), model3(X)"
   ]
  },
  {
   "cell_type": "markdown",
   "id": "8098f90b",
   "metadata": {},
   "source": [
    "#### ModuleDict"
   ]
  },
  {
   "cell_type": "code",
   "execution_count": 63,
   "id": "1896dba8",
   "metadata": {},
   "outputs": [],
   "source": [
    "class MyModuleDict(nn.Module):\n",
    "    def __init__(self):\n",
    "        super(MyModuleDict, self).__init__()\n",
    "        self.choices = nn.ModuleDict({\n",
    "                'conv': nn.Conv2d(10, 10, 3),\n",
    "                'pool': nn.MaxPool2d(3)\n",
    "        })\n",
    "        self.activations = nn.ModuleDict([\n",
    "                ['lrelu', nn.LeakyReLU()],\n",
    "                ['prelu', nn.PReLU()]\n",
    "        ])\n",
    "\n",
    "    def forward(self, x, choice, act):\n",
    "        x = self.choices[choice](x)\n",
    "        x = self.activations[act](x)\n",
    "        return x"
   ]
  },
  {
   "cell_type": "code",
   "execution_count": 64,
   "id": "98d33c59",
   "metadata": {},
   "outputs": [],
   "source": [
    "X=  torch.randn((1, 10, 32, 32))\n",
    "model_dict4= MyModuleDict()\n",
    "output = model_dict4.forward(X,'conv','lrelu')"
   ]
  },
  {
   "cell_type": "markdown",
   "id": "7eff4567",
   "metadata": {},
   "source": [
    "#### ModuleList"
   ]
  },
  {
   "cell_type": "code",
   "execution_count": 67,
   "id": "74c6fbc7",
   "metadata": {},
   "outputs": [],
   "source": [
    "class MyModuleList(nn.Module):\n",
    "    def __init__(self):\n",
    "        super(MyModuleList, self).__init__()\n",
    "        self.linears = nn.ModuleList([nn.Linear(10, 10) for i in range(10)])\n",
    "\n",
    "    def forward(self, x):\n",
    "        for i, linear in enumerate(self.linears):\n",
    "            x = linear(x)\n",
    "        return x"
   ]
  },
  {
   "cell_type": "code",
   "execution_count": 68,
   "id": "87492121",
   "metadata": {},
   "outputs": [],
   "source": [
    "X = torch.randn((1, 10))\n",
    "model5=MyModuleList()\n",
    "output=model5(X)"
   ]
  },
  {
   "cell_type": "markdown",
   "id": "abc64cfc",
   "metadata": {},
   "source": [
    "#### 不用容器的写法"
   ]
  },
  {
   "cell_type": "code",
   "execution_count": 84,
   "id": "2036664e",
   "metadata": {},
   "outputs": [],
   "source": [
    "class NeuralNetwork(nn.Module):\n",
    "    def __init__(self):\n",
    "        super(NeuralNetwork, self).__init__()\n",
    "        self.flatten = nn.Flatten()\n",
    "        self.linear1=nn.Linear(28*28, 512)\n",
    "        self.linear2=nn.Linear(512, 512)\n",
    "        self.linear3=nn.Linear(512, 10)\n",
    "        self.relu1=nn.ReLU()\n",
    "        self.relu2=nn.ReLU()\n",
    "        self.relu3=nn.ReLU()\n",
    "        \n",
    "    def forward(self, x):\n",
    "        x = self.flatten(x)\n",
    "        x = self.linear1(x)\n",
    "        x = self.relu1(x)\n",
    "        x = self.linear2(x)\n",
    "        x = self.relu2(x)\n",
    "        x = self.linear3(x)\n",
    "        x = self.relu3(x)\n",
    "        return x\n",
    "    \n",
    "model = NeuralNetwork()"
   ]
  },
  {
   "cell_type": "code",
   "execution_count": 85,
   "id": "86f35fab",
   "metadata": {},
   "outputs": [
    {
     "name": "stdout",
     "output_type": "stream",
     "text": [
      "----------------------------------------------------------------\n",
      "        Layer (type)               Output Shape         Param #\n",
      "================================================================\n",
      "           Flatten-1                  [-1, 784]               0\n",
      "            Linear-2                  [-1, 512]         401,920\n",
      "              ReLU-3                  [-1, 512]               0\n",
      "            Linear-4                  [-1, 512]         262,656\n",
      "              ReLU-5                  [-1, 512]               0\n",
      "            Linear-6                   [-1, 10]           5,130\n",
      "              ReLU-7                   [-1, 10]               0\n",
      "================================================================\n",
      "Total params: 669,706\n",
      "Trainable params: 669,706\n",
      "Non-trainable params: 0\n",
      "----------------------------------------------------------------\n",
      "Input size (MB): 0.00\n",
      "Forward/backward pass size (MB): 0.02\n",
      "Params size (MB): 2.55\n",
      "Estimated Total Size (MB): 2.58\n",
      "----------------------------------------------------------------\n"
     ]
    }
   ],
   "source": [
    "summary(model,input_size=(1, 28, 28))"
   ]
  },
  {
   "cell_type": "code",
   "execution_count": null,
   "id": "15eb33f9",
   "metadata": {},
   "outputs": [],
   "source": []
  }
 ],
 "metadata": {
  "kernelspec": {
   "display_name": "Python 3",
   "language": "python",
   "name": "python3"
  },
  "language_info": {
   "codemirror_mode": {
    "name": "ipython",
    "version": 3
   },
   "file_extension": ".py",
   "mimetype": "text/x-python",
   "name": "python",
   "nbconvert_exporter": "python",
   "pygments_lexer": "ipython3",
   "version": "3.9.4"
  },
  "toc": {
   "base_numbering": 1,
   "nav_menu": {},
   "number_sections": false,
   "sideBar": true,
   "skip_h1_title": false,
   "title_cell": "Table of Contents",
   "title_sidebar": "Contents",
   "toc_cell": false,
   "toc_position": {},
   "toc_section_display": true,
   "toc_window_display": false
  }
 },
 "nbformat": 4,
 "nbformat_minor": 5
}
