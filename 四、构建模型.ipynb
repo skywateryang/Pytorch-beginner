{
 "cells": [
  {
   "cell_type": "code",
   "execution_count": 17,
   "id": "aa6e2fe9",
   "metadata": {},
   "outputs": [],
   "source": [
    "from torchsummary import summary\n",
    "from torch import nn\n",
    "import torch\n",
    "from collections import OrderedDict\n",
    "import numpy as np\n",
    "from torch.utils.data import DataLoader\n",
    "from torchvision import datasets\n",
    "from torchvision.transforms import ToTensor, Lambda, Compose\n",
    "import matplotlib.pyplot as plt\n",
    "import torch.nn.functional as F"
   ]
  },
  {
   "cell_type": "markdown",
   "id": "719e8576",
   "metadata": {},
   "source": [
    "### 4.1 定义模型类"
   ]
  },
  {
   "cell_type": "code",
   "execution_count": 5,
   "id": "8c0c0050",
   "metadata": {},
   "outputs": [],
   "source": [
    "class NeuralNetwork(nn.Module):\n",
    "    def __init__(self):\n",
    "        super(NeuralNetwork, self).__init__()\n",
    "        # 压平输入数据\n",
    "        self.flatten = nn.Flatten()\n",
    "        self.linear_relu_stack = nn.Sequential(\n",
    "            nn.Linear(28*28, 512),\n",
    "            nn.ReLU(),\n",
    "            nn.Linear(512, 512),\n",
    "            nn.ReLU(),\n",
    "            nn.Linear(512, 10),\n",
    "            nn.ReLU()\n",
    "        )\n",
    "\n",
    "    def forward(self, x):\n",
    "        x = self.flatten(x)\n",
    "        logits = self.linear_relu_stack(x)\n",
    "        return logits\n",
    "    \n",
    "model = NeuralNetwork()"
   ]
  },
  {
   "cell_type": "code",
   "execution_count": 18,
   "id": "92c7d259",
   "metadata": {},
   "outputs": [
    {
     "name": "stdout",
     "output_type": "stream",
     "text": [
      "----------------------------------------------------------------\n",
      "        Layer (type)               Output Shape         Param #\n",
      "================================================================\n",
      "           Flatten-1                  [64, 784]               0\n",
      "            Linear-2                  [64, 512]         401,920\n",
      "              ReLU-3                  [64, 512]               0\n",
      "            Linear-4                  [64, 512]         262,656\n",
      "              ReLU-5                  [64, 512]               0\n",
      "            Linear-6                   [64, 10]           5,130\n",
      "              ReLU-7                   [64, 10]               0\n",
      "================================================================\n",
      "Total params: 669,706\n",
      "Trainable params: 669,706\n",
      "Non-trainable params: 0\n",
      "----------------------------------------------------------------\n",
      "Input size (MB): 0.19\n",
      "Forward/backward pass size (MB): 1.39\n",
      "Params size (MB): 2.55\n",
      "Estimated Total Size (MB): 4.14\n",
      "----------------------------------------------------------------\n"
     ]
    }
   ],
   "source": [
    "summary(model,input_size=(1, 28, 28),batch_size=64)"
   ]
  },
  {
   "cell_type": "markdown",
   "id": "097a42c1",
   "metadata": {},
   "source": [
    "### 4.2 定义模型容器"
   ]
  },
  {
   "cell_type": "markdown",
   "id": "dfd40d99",
   "metadata": {},
   "source": [
    "#### Sequential"
   ]
  },
  {
   "cell_type": "code",
   "execution_count": 42,
   "id": "fa4fcc31",
   "metadata": {},
   "outputs": [],
   "source": [
    "X = torch.randn((1,784))"
   ]
  },
  {
   "cell_type": "code",
   "execution_count": 47,
   "id": "0aa6108a",
   "metadata": {},
   "outputs": [],
   "source": [
    "torch.manual_seed(42)\n",
    "model1 = nn.Sequential(\n",
    "            nn.Linear(28*28, 512),\n",
    "            nn.ReLU(),\n",
    "            nn.Linear(512, 512),\n",
    "            nn.ReLU(),\n",
    "            nn.Linear(512, 10),\n",
    "            nn.ReLU()\n",
    "        )"
   ]
  },
  {
   "cell_type": "code",
   "execution_count": 49,
   "id": "9767ec67",
   "metadata": {},
   "outputs": [],
   "source": [
    "torch.manual_seed(42)\n",
    "layer2=OrderedDict([\n",
    "    ('linear1',nn.Linear(28*28, 512)),\n",
    "    ('relu1',nn.ReLU()),\n",
    "    ('linear2',nn.Linear(512, 512)),\n",
    "    ('relu2',nn.ReLU()),\n",
    "    ('linear3',nn.Linear(512, 10)),\n",
    "    ('relu3',nn.ReLU())\n",
    "])\n",
    "model2 = nn.Sequential(layer2)"
   ]
  },
  {
   "cell_type": "code",
   "execution_count": 52,
   "id": "d9d66c8d",
   "metadata": {},
   "outputs": [],
   "source": [
    "torch.manual_seed(42)\n",
    "model3=nn.Sequential()\n",
    "model3.add_module('linear1',nn.Linear(28*28, 512))\n",
    "model3.add_module('relu1',nn.ReLU())\n",
    "model3.add_module('linear2',nn.Linear(512, 512))\n",
    "model3.add_module('relu2',nn.ReLU())\n",
    "model3.add_module('linear3',nn.Linear(512, 10))\n",
    "model3.add_module('relu3',nn.ReLU())"
   ]
  },
  {
   "cell_type": "code",
   "execution_count": 54,
   "id": "9d613903",
   "metadata": {},
   "outputs": [
    {
     "data": {
      "text/plain": [
       "(tensor([[0.0000, 0.0066, 0.0020, 0.0000, 0.0000, 0.0000, 0.0131, 0.0932, 0.0000,\n",
       "          0.0439]], grad_fn=<ReluBackward0>),\n",
       " tensor([[0.0000, 0.0066, 0.0020, 0.0000, 0.0000, 0.0000, 0.0131, 0.0932, 0.0000,\n",
       "          0.0439]], grad_fn=<ReluBackward0>),\n",
       " tensor([[0.0000, 0.0066, 0.0020, 0.0000, 0.0000, 0.0000, 0.0131, 0.0932, 0.0000,\n",
       "          0.0439]], grad_fn=<ReluBackward0>))"
      ]
     },
     "execution_count": 54,
     "metadata": {},
     "output_type": "execute_result"
    }
   ],
   "source": [
    "model1(X), model2(X), model3(X)"
   ]
  },
  {
   "cell_type": "markdown",
   "id": "8098f90b",
   "metadata": {},
   "source": [
    "#### ModuleDict"
   ]
  },
  {
   "cell_type": "code",
   "execution_count": 63,
   "id": "1896dba8",
   "metadata": {},
   "outputs": [],
   "source": [
    "class MyModuleDict(nn.Module):\n",
    "    def __init__(self):\n",
    "        super(MyModuleDict, self).__init__()\n",
    "        self.choices = nn.ModuleDict({\n",
    "                'conv': nn.Conv2d(10, 10, 3),\n",
    "                'pool': nn.MaxPool2d(3)\n",
    "        })\n",
    "        self.activations = nn.ModuleDict([\n",
    "                ['lrelu', nn.LeakyReLU()],\n",
    "                ['prelu', nn.PReLU()]\n",
    "        ])\n",
    "\n",
    "    def forward(self, x, choice, act):\n",
    "        x = self.choices[choice](x)\n",
    "        x = self.activations[act](x)\n",
    "        return x"
   ]
  },
  {
   "cell_type": "code",
   "execution_count": 64,
   "id": "98d33c59",
   "metadata": {},
   "outputs": [],
   "source": [
    "X=  torch.randn((1, 10, 32, 32))\n",
    "model_dict4= MyModuleDict()\n",
    "output = model_dict4.forward(X,'conv','lrelu')"
   ]
  },
  {
   "cell_type": "markdown",
   "id": "7eff4567",
   "metadata": {},
   "source": [
    "#### ModuleList"
   ]
  },
  {
   "cell_type": "code",
   "execution_count": 67,
   "id": "74c6fbc7",
   "metadata": {},
   "outputs": [],
   "source": [
    "class MyModuleList(nn.Module):\n",
    "    def __init__(self):\n",
    "        super(MyModuleList, self).__init__()\n",
    "        self.linears = nn.ModuleList([nn.Linear(10, 10) for i in range(10)])\n",
    "\n",
    "    def forward(self, x):\n",
    "        for i, linear in enumerate(self.linears):\n",
    "            x = linear(x)\n",
    "        return x"
   ]
  },
  {
   "cell_type": "code",
   "execution_count": 68,
   "id": "87492121",
   "metadata": {},
   "outputs": [],
   "source": [
    "X = torch.randn((1, 10))\n",
    "model5=MyModuleList()\n",
    "output=model5(X)"
   ]
  },
  {
   "cell_type": "markdown",
   "id": "abc64cfc",
   "metadata": {},
   "source": [
    "#### 不用容器的写法"
   ]
  },
  {
   "cell_type": "code",
   "execution_count": 84,
   "id": "2036664e",
   "metadata": {},
   "outputs": [],
   "source": [
    "class NeuralNetwork(nn.Module):\n",
    "    def __init__(self):\n",
    "        super(NeuralNetwork, self).__init__()\n",
    "        self.flatten = nn.Flatten()\n",
    "        self.linear1=nn.Linear(28*28, 512)\n",
    "        self.linear2=nn.Linear(512, 512)\n",
    "        self.linear3=nn.Linear(512, 10)\n",
    "        self.relu1=nn.ReLU()\n",
    "        self.relu2=nn.ReLU()\n",
    "        self.relu3=nn.ReLU()\n",
    "        \n",
    "    def forward(self, x):\n",
    "        x = self.flatten(x)\n",
    "        x = self.linear1(x)\n",
    "        x = self.relu1(x)\n",
    "        x = self.linear2(x)\n",
    "        x = self.relu2(x)\n",
    "        x = self.linear3(x)\n",
    "        x = self.relu3(x)\n",
    "        return x\n",
    "    \n",
    "model = NeuralNetwork()"
   ]
  },
  {
   "cell_type": "code",
   "execution_count": 85,
   "id": "86f35fab",
   "metadata": {},
   "outputs": [
    {
     "name": "stdout",
     "output_type": "stream",
     "text": [
      "----------------------------------------------------------------\n",
      "        Layer (type)               Output Shape         Param #\n",
      "================================================================\n",
      "           Flatten-1                  [-1, 784]               0\n",
      "            Linear-2                  [-1, 512]         401,920\n",
      "              ReLU-3                  [-1, 512]               0\n",
      "            Linear-4                  [-1, 512]         262,656\n",
      "              ReLU-5                  [-1, 512]               0\n",
      "            Linear-6                   [-1, 10]           5,130\n",
      "              ReLU-7                   [-1, 10]               0\n",
      "================================================================\n",
      "Total params: 669,706\n",
      "Trainable params: 669,706\n",
      "Non-trainable params: 0\n",
      "----------------------------------------------------------------\n",
      "Input size (MB): 0.00\n",
      "Forward/backward pass size (MB): 0.02\n",
      "Params size (MB): 2.55\n",
      "Estimated Total Size (MB): 2.58\n",
      "----------------------------------------------------------------\n"
     ]
    }
   ],
   "source": [
    "summary(model,input_size=(1, 28, 28))"
   ]
  },
  {
   "cell_type": "markdown",
   "id": "761dd6db",
   "metadata": {},
   "source": [
    "### 4.4 正则化"
   ]
  },
  {
   "cell_type": "markdown",
   "id": "10f97045",
   "metadata": {},
   "source": [
    "#### dropout"
   ]
  },
  {
   "cell_type": "code",
   "execution_count": 1,
   "id": "3f9eb847",
   "metadata": {},
   "outputs": [],
   "source": [
    "%matplotlib inline\n",
    "import torch\n",
    "from torch import nn\n",
    "from torch.utils.data import DataLoader\n",
    "from torchvision import datasets\n",
    "from torchvision.transforms import ToTensor, Lambda, Compose\n",
    "import matplotlib.pyplot as plt"
   ]
  },
  {
   "cell_type": "code",
   "execution_count": 41,
   "id": "8a0e6b1a",
   "metadata": {},
   "outputs": [],
   "source": [
    "# Download training data from open datasets.\n",
    "training_data = datasets.FashionMNIST(\n",
    "    root=\"data\",\n",
    "    train=True,\n",
    "    download=False,\n",
    "    transform=ToTensor(),\n",
    ")\n",
    "\n",
    "# Download test data from open datasets.\n",
    "test_data = datasets.FashionMNIST(\n",
    "    root=\"data\",\n",
    "    train=False,\n",
    "    download=False,\n",
    "    transform=ToTensor(),\n",
    ")"
   ]
  },
  {
   "cell_type": "code",
   "execution_count": 108,
   "id": "6002f54e",
   "metadata": {},
   "outputs": [
    {
     "name": "stdout",
     "output_type": "stream",
     "text": [
      "Shape of X [N, C, H, W]:  torch.Size([64, 1, 28, 28])\n",
      "Shape of y:  torch.Size([64]) torch.int64\n"
     ]
    }
   ],
   "source": [
    "batch_size = 64\n",
    "\n",
    "# Create data loaders.\n",
    "train_dataloader = DataLoader(training_data, batch_size)\n",
    "test_dataloader = DataLoader(test_data, batch_size)\n",
    "\n",
    "for X, y in test_dataloader:\n",
    "    print(\"Shape of X [N, C, H, W]: \", X.shape)\n",
    "    print(\"Shape of y: \", y.shape, y.dtype)\n",
    "    break"
   ]
  },
  {
   "cell_type": "code",
   "execution_count": 154,
   "id": "4152d4dc",
   "metadata": {},
   "outputs": [
    {
     "name": "stdout",
     "output_type": "stream",
     "text": [
      "Using cpu device\n"
     ]
    }
   ],
   "source": [
    "# Get cpu or gpu device for training.\n",
    "device = \"cuda\" if torch.cuda.is_available() else \"cpu\"\n",
    "print(\"Using {} device\".format(device))\n",
    "\n",
    "# Define model\n",
    "class NeuralNetwork(nn.Module):\n",
    "    def __init__(self,p):\n",
    "        super(NeuralNetwork, self).__init__()\n",
    "        self.flatten = nn.Flatten()\n",
    "        self.linear_relu_stack = nn.Sequential(\n",
    "            nn.Linear(28*28, 512),\n",
    "            nn.Dropout(p),\n",
    "            nn.ReLU(),\n",
    "            nn.Linear(512, 512),\n",
    "            nn.Dropout(p),\n",
    "            nn.ReLU(),\n",
    "            nn.Linear(512, 10),\n",
    "            nn.ReLU()\n",
    "        )\n",
    "\n",
    "    def forward(self, x):\n",
    "        x = self.flatten(x)\n",
    "        logits = self.linear_relu_stack(x)\n",
    "        return logits"
   ]
  },
  {
   "cell_type": "code",
   "execution_count": 155,
   "id": "238f2ee9",
   "metadata": {},
   "outputs": [
    {
     "name": "stdout",
     "output_type": "stream",
     "text": [
      "NeuralNetwork(\n",
      "  (flatten): Flatten(start_dim=1, end_dim=-1)\n",
      "  (linear_relu_stack): Sequential(\n",
      "    (0): Linear(in_features=784, out_features=512, bias=True)\n",
      "    (1): Dropout(p=0, inplace=False)\n",
      "    (2): ReLU()\n",
      "    (3): Linear(in_features=512, out_features=512, bias=True)\n",
      "    (4): Dropout(p=0, inplace=False)\n",
      "    (5): ReLU()\n",
      "    (6): Linear(in_features=512, out_features=10, bias=True)\n",
      "    (7): ReLU()\n",
      "  )\n",
      ")\n"
     ]
    }
   ],
   "source": [
    "# without dropout\n",
    "model_wodrop = NeuralNetwork(0).to(device)\n",
    "print(model_wodrop)\n",
    "loss_fn = nn.CrossEntropyLoss()\n",
    "optimizer_wodrop = torch.optim.SGD(model_wodrop.parameters(), lr=1e-3)"
   ]
  },
  {
   "cell_type": "code",
   "execution_count": 156,
   "id": "b6e8f021",
   "metadata": {},
   "outputs": [
    {
     "name": "stdout",
     "output_type": "stream",
     "text": [
      "NeuralNetwork(\n",
      "  (flatten): Flatten(start_dim=1, end_dim=-1)\n",
      "  (linear_relu_stack): Sequential(\n",
      "    (0): Linear(in_features=784, out_features=512, bias=True)\n",
      "    (1): Dropout(p=0.5, inplace=False)\n",
      "    (2): ReLU()\n",
      "    (3): Linear(in_features=512, out_features=512, bias=True)\n",
      "    (4): Dropout(p=0.5, inplace=False)\n",
      "    (5): ReLU()\n",
      "    (6): Linear(in_features=512, out_features=10, bias=True)\n",
      "    (7): ReLU()\n",
      "  )\n",
      ")\n"
     ]
    }
   ],
   "source": [
    "# with dropout\n",
    "model_drop = NeuralNetwork(0.5).to(device)\n",
    "print(model_drop)\n",
    "loss_fn = nn.CrossEntropyLoss()\n",
    "optimizer_drop = torch.optim.SGD(model_drop.parameters(), lr=1e-3)"
   ]
  },
  {
   "cell_type": "code",
   "execution_count": 157,
   "id": "286ef6d7",
   "metadata": {},
   "outputs": [],
   "source": [
    "def train(dataloader, model, loss_fn, optimizer):\n",
    "    size = len(dataloader.dataset)\n",
    "    model.train()\n",
    "    train_loss=0\n",
    "    correct=0\n",
    "    for batch, (X, y) in enumerate(dataloader):\n",
    "        X, y = X.to(device), y.to(device)\n",
    "        \n",
    "        # Compute prediction error\n",
    "        pred = model(X)\n",
    "        loss = loss_fn(pred, y)\n",
    "        \n",
    "        # Backpropagation\n",
    "        optimizer.zero_grad()\n",
    "        loss.backward()\n",
    "        optimizer.step()\n",
    "        train_loss+= loss.item()\n",
    "        correct += (pred.argmax(1) == y).type(torch.float).sum().item()\n",
    "    train_loss = train_loss/len(dataloader)\n",
    "    correct /= size\n",
    "    return correct"
   ]
  },
  {
   "cell_type": "code",
   "execution_count": 158,
   "id": "31511465",
   "metadata": {},
   "outputs": [],
   "source": [
    "def test(dataloader, model, loss_fn):\n",
    "    size = len(dataloader.dataset)\n",
    "    model.eval()\n",
    "    test_loss= 0\n",
    "    correct=0\n",
    "    with torch.no_grad():\n",
    "        for X, y in dataloader:\n",
    "            X, y = X.to(device), y.to(device)\n",
    "            pred = model(X)\n",
    "            test_loss += loss_fn(pred, y).item()\n",
    "            correct += (pred.argmax(1) == y).type(torch.float).sum().item()\n",
    "    test_loss = test_loss/len(dataloader)\n",
    "    correct /= size\n",
    "    return correct"
   ]
  },
  {
   "cell_type": "code",
   "execution_count": 159,
   "id": "b8bf2695",
   "metadata": {},
   "outputs": [
    {
     "name": "stdout",
     "output_type": "stream",
     "text": [
      "epoch 1 begin:\n",
      "epoch 2 begin:\n",
      "epoch 3 begin:\n",
      "epoch 4 begin:\n",
      "epoch 5 begin:\n",
      "epoch 6 begin:\n",
      "epoch 7 begin:\n",
      "epoch 8 begin:\n",
      "epoch 9 begin:\n",
      "epoch 10 begin:\n",
      "epoch 11 begin:\n",
      "epoch 12 begin:\n",
      "epoch 13 begin:\n",
      "epoch 14 begin:\n",
      "epoch 15 begin:\n",
      "epoch 16 begin:\n",
      "epoch 17 begin:\n",
      "epoch 18 begin:\n",
      "epoch 19 begin:\n",
      "epoch 20 begin:\n",
      "epoch 21 begin:\n",
      "epoch 22 begin:\n",
      "epoch 23 begin:\n",
      "epoch 24 begin:\n",
      "epoch 25 begin:\n",
      "epoch 26 begin:\n",
      "epoch 27 begin:\n",
      "epoch 28 begin:\n",
      "epoch 29 begin:\n",
      "epoch 30 begin:\n",
      "epoch 31 begin:\n",
      "epoch 32 begin:\n",
      "epoch 33 begin:\n",
      "epoch 34 begin:\n",
      "epoch 35 begin:\n",
      "epoch 36 begin:\n",
      "epoch 37 begin:\n",
      "epoch 38 begin:\n",
      "epoch 39 begin:\n",
      "epoch 40 begin:\n"
     ]
    }
   ],
   "source": [
    "epochs = 40\n",
    "epoch_array=  np.arange(1,epochs+1,dtype=np.float64)\n",
    "train_loss_wodrop = np.zeros_like(epoch_array)\n",
    "test_loss_wodrop = np.zeros_like(epoch_array)\n",
    "for i in range(epochs):\n",
    "    print(f'epoch {i+1} begin:')\n",
    "    epoch_loss =  train(train_dataloader, model_wodrop, loss_fn, optimizer_wodrop)\n",
    "    train_loss_wodrop[i] =  epoch_loss\n",
    "    epoch_loss =  test(test_dataloader, model_wodrop, loss_fn)\n",
    "    test_loss_wodrop[i] =  epoch_loss"
   ]
  },
  {
   "cell_type": "code",
   "execution_count": 163,
   "id": "78662209",
   "metadata": {},
   "outputs": [
    {
     "data": {
      "text/plain": [
       "<matplotlib.legend.Legend at 0x238510e7730>"
      ]
     },
     "execution_count": 163,
     "metadata": {},
     "output_type": "execute_result"
    },
    {
     "data": {
      "image/png": "[encoded data removed]",
      "text/plain": [
       "<Figure size 432x288 with 1 Axes>"
      ]
     },
     "metadata": {
      "needs_background": "light"
     },
     "output_type": "display_data"
    }
   ],
   "source": [
    "plt.plot(epoch_array,train_loss_wodrop,label='train acc')\n",
    "plt.plot(epoch_array,test_loss_wodrop,label='test acc')\n",
    "plt.title('Without dropout')\n",
    "plt.legend()"
   ]
  },
  {
   "cell_type": "code",
   "execution_count": 161,
   "id": "e07300f4",
   "metadata": {},
   "outputs": [
    {
     "name": "stdout",
     "output_type": "stream",
     "text": [
      "epoch 1 begin:\n",
      "epoch 2 begin:\n",
      "epoch 3 begin:\n",
      "epoch 4 begin:\n",
      "epoch 5 begin:\n",
      "epoch 6 begin:\n",
      "epoch 7 begin:\n",
      "epoch 8 begin:\n",
      "epoch 9 begin:\n",
      "epoch 10 begin:\n",
      "epoch 11 begin:\n",
      "epoch 12 begin:\n",
      "epoch 13 begin:\n",
      "epoch 14 begin:\n",
      "epoch 15 begin:\n",
      "epoch 16 begin:\n",
      "epoch 17 begin:\n",
      "epoch 18 begin:\n",
      "epoch 19 begin:\n",
      "epoch 20 begin:\n",
      "epoch 21 begin:\n",
      "epoch 22 begin:\n",
      "epoch 23 begin:\n",
      "epoch 24 begin:\n",
      "epoch 25 begin:\n",
      "epoch 26 begin:\n",
      "epoch 27 begin:\n",
      "epoch 28 begin:\n",
      "epoch 29 begin:\n",
      "epoch 30 begin:\n",
      "epoch 31 begin:\n",
      "epoch 32 begin:\n",
      "epoch 33 begin:\n",
      "epoch 34 begin:\n",
      "epoch 35 begin:\n",
      "epoch 36 begin:\n",
      "epoch 37 begin:\n",
      "epoch 38 begin:\n",
      "epoch 39 begin:\n",
      "epoch 40 begin:\n"
     ]
    }
   ],
   "source": [
    "epochs = 40\n",
    "epoch_array=  np.arange(1,epochs+1,dtype=np.float64)\n",
    "train_loss_drop = np.zeros_like(epoch_array)\n",
    "test_loss_drop = np.zeros_like(epoch_array)\n",
    "for i in range(epochs):\n",
    "    print(f'epoch {i+1} begin:')\n",
    "    epoch_loss =  train(train_dataloader, model_drop, loss_fn, optimizer_drop)\n",
    "    train_loss_drop[i] =  epoch_loss\n",
    "    epoch_loss =  test(test_dataloader, model_drop, loss_fn)\n",
    "    test_loss_drop[i] =  epoch_loss"
   ]
  },
  {
   "cell_type": "code",
   "execution_count": 164,
   "id": "e7b75614",
   "metadata": {},
   "outputs": [
    {
     "data": {
      "text/plain": [
       "<matplotlib.legend.Legend at 0x23851ad4cd0>"
      ]
     },
     "execution_count": 164,
     "metadata": {},
     "output_type": "execute_result"
    },
    {
     "data": {
      "image/png": "[encoded data removed]",
      "text/plain": [
       "<Figure size 432x288 with 1 Axes>"
      ]
     },
     "metadata": {
      "needs_background": "light"
     },
     "output_type": "display_data"
    }
   ],
   "source": [
    "plt.plot(epoch_array,train_loss_drop,label='train acc')\n",
    "plt.plot(epoch_array,test_loss_drop,label='test acc')\n",
    "plt.title('with dropout')\n",
    "plt.legend()"
   ]
  },
  {
   "cell_type": "code",
   "execution_count": 127,
   "id": "3e5a9860",
   "metadata": {},
   "outputs": [
    {
     "data": {
      "text/plain": [
       "array([2.31604085, 2.29500786, 2.27759864, 2.25430542, 2.2169927 ,\n",
       "       2.17303303, 2.11503803, 2.04792284, 1.95960178, 1.85815818,\n",
       "       1.76037811, 1.67046976, 1.59823282, 1.5344492 , 1.47592707])"
      ]
     },
     "execution_count": 127,
     "metadata": {},
     "output_type": "execute_result"
    }
   ],
   "source": [
    "train_loss_drop"
   ]
  },
  {
   "cell_type": "code",
   "execution_count": 128,
   "id": "3c555216",
   "metadata": {},
   "outputs": [
    {
     "data": {
      "text/plain": [
       "array([2.28788005, 2.2677436 , 2.23720774, 2.19427744, 2.13454214,\n",
       "       2.06110843, 1.97086331, 1.86445748, 1.73260515, 1.59330956,\n",
       "       1.47227413, 1.3712639 , 1.29249225, 1.22992534, 1.1776903 ])"
      ]
     },
     "execution_count": 128,
     "metadata": {},
     "output_type": "execute_result"
    }
   ],
   "source": [
    "test_loss_drop"
   ]
  },
  {
   "cell_type": "code",
   "execution_count": 166,
   "id": "a8bbc23e",
   "metadata": {},
   "outputs": [
    {
     "data": {
      "text/plain": [
       "<matplotlib.legend.Legend at 0x23851c24970>"
      ]
     },
     "execution_count": 166,
     "metadata": {},
     "output_type": "execute_result"
    },
    {
     "data": {
      "image/png": "[encoded data removed]",
      "text/plain": [
       "<Figure size 432x288 with 1 Axes>"
      ]
     },
     "metadata": {
      "needs_background": "light"
     },
     "output_type": "display_data"
    }
   ],
   "source": [
    "plt.plot(epoch_array,train_loss_wodrop,label='train acc')\n",
    "plt.plot(epoch_array,test_loss_wodrop,label='test acc')\n",
    "plt.plot(epoch_array,train_loss_drop,label='train acc with dropout')\n",
    "plt.plot(epoch_array,test_loss_drop,label='test acc with dropout')\n",
    "plt.legend()"
   ]
  },
  {
   "cell_type": "markdown",
   "id": "e8f666af",
   "metadata": {},
   "source": [
    "#### L1/L2"
   ]
  },
  {
   "cell_type": "code",
   "execution_count": 178,
   "id": "a2ed3ba2",
   "metadata": {},
   "outputs": [
    {
     "name": "stdout",
     "output_type": "stream",
     "text": [
      "Using cpu device\n"
     ]
    }
   ],
   "source": [
    "# Get cpu or gpu device for training.\n",
    "device = \"cuda\" if torch.cuda.is_available() else \"cpu\"\n",
    "print(\"Using {} device\".format(device))\n",
    "\n",
    "# Define model\n",
    "class NeuralNetwork(nn.Module):\n",
    "    def __init__(self):\n",
    "        super(NeuralNetwork, self).__init__()\n",
    "        self.flatten = nn.Flatten()\n",
    "        self.linear_relu_stack = nn.Sequential(\n",
    "            nn.Linear(28*28, 512),\n",
    "            nn.ReLU(),\n",
    "            nn.Linear(512, 512),\n",
    "            nn.ReLU(),\n",
    "            nn.Linear(512, 10),\n",
    "            nn.ReLU()\n",
    "        )\n",
    "\n",
    "    def forward(self, x):\n",
    "        x = self.flatten(x)\n",
    "        logits = self.linear_relu_stack(x)\n",
    "        return logits"
   ]
  },
  {
   "cell_type": "code",
   "execution_count": 189,
   "id": "665a4b5d",
   "metadata": {},
   "outputs": [],
   "source": [
    "model_l1 = NeuralNetwork().to(device)\n",
    "loss_fn = nn.CrossEntropyLoss()\n",
    "optimizer_l1 = torch.optim.SGD(model_l1.parameters(), lr=1e-3)\n",
    "\n",
    "model_l2 = NeuralNetwork().to(device)\n",
    "loss_fn = nn.CrossEntropyLoss()\n",
    "optimizer_l2 = torch.optim.SGD(model_l2.parameters(), lr=1e-3)"
   ]
  },
  {
   "cell_type": "code",
   "execution_count": 190,
   "id": "6700591b",
   "metadata": {},
   "outputs": [],
   "source": [
    "def train(dataloader, model, loss_fn, optimizer, re):\n",
    "    size = len(dataloader.dataset)\n",
    "    model.train()\n",
    "    train_loss=0\n",
    "    correct=0\n",
    "    for batch, (X, y) in enumerate(dataloader):\n",
    "        X, y = X.to(device), y.to(device)\n",
    "        \n",
    "        # Compute prediction error\n",
    "        pred = model(X)\n",
    "        loss = loss_fn(pred, y)\n",
    "        \n",
    "        # add penalty\n",
    "        re_lambda = 0.001\n",
    "        if re =='l2':\n",
    "            re_norm = sum(p.pow(2.0).sum()  for p in model.parameters())\n",
    "        elif re =='l1':\n",
    "            re_norm = sum(abs(p).sum()  for p in model.parameters())\n",
    "        loss = loss + re_lambda * re_norm\n",
    "        \n",
    "        # Backpropagation\n",
    "        optimizer.zero_grad()\n",
    "        loss.backward()\n",
    "        optimizer.step()\n",
    "        train_loss+= loss.item()\n",
    "        correct += (pred.argmax(1) == y).type(torch.float).sum().item()\n",
    "    train_loss = train_loss/len(dataloader)\n",
    "    correct /= size\n",
    "    return correct"
   ]
  },
  {
   "cell_type": "code",
   "execution_count": 191,
   "id": "cc236072",
   "metadata": {},
   "outputs": [],
   "source": [
    "def test(dataloader, model, loss_fn):\n",
    "    size = len(dataloader.dataset)\n",
    "    model.eval()\n",
    "    test_loss= 0\n",
    "    correct=0\n",
    "    with torch.no_grad():\n",
    "        for X, y in dataloader:\n",
    "            X, y = X.to(device), y.to(device)\n",
    "            pred = model(X)\n",
    "            test_loss += loss_fn(pred, y).item()\n",
    "            correct += (pred.argmax(1) == y).type(torch.float).sum().item()\n",
    "    test_loss = test_loss/len(dataloader)\n",
    "    correct /= size\n",
    "    return correct"
   ]
  },
  {
   "cell_type": "code",
   "execution_count": 192,
   "id": "e3b315c5",
   "metadata": {},
   "outputs": [
    {
     "name": "stdout",
     "output_type": "stream",
     "text": [
      "epoch 1 begin:\n",
      "epoch 2 begin:\n",
      "epoch 3 begin:\n",
      "epoch 4 begin:\n",
      "epoch 5 begin:\n",
      "epoch 6 begin:\n",
      "epoch 7 begin:\n",
      "epoch 8 begin:\n",
      "epoch 9 begin:\n",
      "epoch 10 begin:\n",
      "epoch 11 begin:\n",
      "epoch 12 begin:\n",
      "epoch 13 begin:\n",
      "epoch 14 begin:\n",
      "epoch 15 begin:\n",
      "epoch 16 begin:\n",
      "epoch 17 begin:\n",
      "epoch 18 begin:\n",
      "epoch 19 begin:\n",
      "epoch 20 begin:\n"
     ]
    }
   ],
   "source": [
    "epochs = 20\n",
    "epoch_array=  np.arange(1,epochs+1,dtype=np.float64)\n",
    "train_acc_l2 = np.zeros_like(epoch_array)\n",
    "test_acc_l2 = np.zeros_like(epoch_array)\n",
    "train_acc_l1 = np.zeros_like(epoch_array)\n",
    "test_acc_l1 = np.zeros_like(epoch_array)\n",
    "for i in range(epochs):\n",
    "    print(f'epoch {i+1} begin:')\n",
    "    train_acc_l1[i] =  train(train_dataloader, model_l1, loss_fn, optimizer_l1,'l1')\n",
    "    test_acc_l1[i] =  test(test_dataloader, model_l1, loss_fn)\n",
    "    train_acc_l2[i] =  train(train_dataloader, model_l2, loss_fn, optimizer_l2,'l2')\n",
    "    test_acc_l2[i] =  test(test_dataloader, model_l2, loss_fn)"
   ]
  },
  {
   "cell_type": "code",
   "execution_count": 193,
   "id": "e72836d8",
   "metadata": {},
   "outputs": [
    {
     "data": {
      "text/plain": [
       "<matplotlib.legend.Legend at 0x23851d57b50>"
      ]
     },
     "execution_count": 193,
     "metadata": {},
     "output_type": "execute_result"
    },
    {
     "data": {
      "image/png": "[encoded data removed]",
      "text/plain": [
       "<Figure size 432x288 with 1 Axes>"
      ]
     },
     "metadata": {
      "needs_background": "light"
     },
     "output_type": "display_data"
    }
   ],
   "source": [
    "plt.plot(epoch_array,train_acc_l1,label='train acc l1')\n",
    "plt.plot(epoch_array,test_acc_l1,label='test acc l1')\n",
    "plt.plot(epoch_array,train_acc_l2,label='train acc l2')\n",
    "plt.plot(epoch_array,test_acc_l2,label='test acc l2')\n",
    "plt.legend()"
   ]
  },
  {
   "cell_type": "markdown",
   "id": "c5f3a255",
   "metadata": {},
   "source": [
    "#### BN"
   ]
  },
  {
   "cell_type": "code",
   "execution_count": 196,
   "id": "82711872",
   "metadata": {},
   "outputs": [
    {
     "name": "stdout",
     "output_type": "stream",
     "text": [
      "Using cpu device\n"
     ]
    }
   ],
   "source": [
    "# Get cpu or gpu device for training.\n",
    "device = \"cuda\" if torch.cuda.is_available() else \"cpu\"\n",
    "print(\"Using {} device\".format(device))\n",
    "\n",
    "# Define model\n",
    "class NeuralNetwork(nn.Module):\n",
    "    def __init__(self):\n",
    "        super(NeuralNetwork, self).__init__()\n",
    "        self.flatten = nn.Flatten()\n",
    "        self.linear_relu_stack = nn.Sequential(\n",
    "            nn.Linear(28*28, 512),\n",
    "            nn.BatchNorm1d(512),\n",
    "            nn.ReLU(),\n",
    "            nn.Linear(512, 512),\n",
    "            nn.BatchNorm1d(512),\n",
    "            nn.ReLU(),\n",
    "            nn.Linear(512, 10),\n",
    "            nn.ReLU()\n",
    "        )\n",
    "\n",
    "    def forward(self, x):\n",
    "        x = self.flatten(x)\n",
    "        logits = self.linear_relu_stack(x)\n",
    "        return logits"
   ]
  },
  {
   "cell_type": "code",
   "execution_count": 202,
   "id": "e0e01c2f",
   "metadata": {},
   "outputs": [],
   "source": [
    "model_bn = NeuralNetwork().to(device)\n",
    "loss_fn = nn.CrossEntropyLoss()\n",
    "optimizer_bn= torch.optim.SGD(model_bn.parameters(), lr=1e-3)"
   ]
  },
  {
   "cell_type": "code",
   "execution_count": 203,
   "id": "79f32b1c",
   "metadata": {},
   "outputs": [],
   "source": [
    "def train(dataloader, model, loss_fn, optimizer):\n",
    "    size = len(dataloader.dataset)\n",
    "    model.train()\n",
    "    train_loss=0\n",
    "    correct=0\n",
    "    for batch, (X, y) in enumerate(dataloader):\n",
    "        X, y = X.to(device), y.to(device)\n",
    "        \n",
    "        # Compute prediction error\n",
    "        pred = model(X)\n",
    "        loss = loss_fn(pred, y)\n",
    "        \n",
    "        \n",
    "        # Backpropagation\n",
    "        optimizer.zero_grad()\n",
    "        loss.backward()\n",
    "        optimizer.step()\n",
    "        train_loss+= loss.item()\n",
    "        correct += (pred.argmax(1) == y).type(torch.float).sum().item()\n",
    "    train_loss = train_loss/len(dataloader)\n",
    "    correct /= size\n",
    "    return correct"
   ]
  },
  {
   "cell_type": "code",
   "execution_count": 204,
   "id": "7aa9c060",
   "metadata": {},
   "outputs": [],
   "source": [
    "def test(dataloader, model, loss_fn):\n",
    "    size = len(dataloader.dataset)\n",
    "    model.eval()\n",
    "    test_loss= 0\n",
    "    correct=0\n",
    "    with torch.no_grad():\n",
    "        for X, y in dataloader:\n",
    "            X, y = X.to(device), y.to(device)\n",
    "            pred = model(X)\n",
    "            test_loss += loss_fn(pred, y).item()\n",
    "            correct += (pred.argmax(1) == y).type(torch.float).sum().item()\n",
    "    test_loss = test_loss/len(dataloader)\n",
    "    correct /= size\n",
    "    return correct"
   ]
  },
  {
   "cell_type": "code",
   "execution_count": 205,
   "id": "69b320c4",
   "metadata": {},
   "outputs": [
    {
     "name": "stdout",
     "output_type": "stream",
     "text": [
      "epoch 1 begin:\n",
      "epoch 2 begin:\n",
      "epoch 3 begin:\n",
      "epoch 4 begin:\n",
      "epoch 5 begin:\n",
      "epoch 6 begin:\n",
      "epoch 7 begin:\n",
      "epoch 8 begin:\n",
      "epoch 9 begin:\n",
      "epoch 10 begin:\n",
      "epoch 11 begin:\n",
      "epoch 12 begin:\n",
      "epoch 13 begin:\n",
      "epoch 14 begin:\n",
      "epoch 15 begin:\n",
      "epoch 16 begin:\n",
      "epoch 17 begin:\n",
      "epoch 18 begin:\n",
      "epoch 19 begin:\n",
      "epoch 20 begin:\n"
     ]
    }
   ],
   "source": [
    "epochs = 20\n",
    "epoch_array=  np.arange(1,epochs+1,dtype=np.float64)\n",
    "train_acc_bn = np.zeros_like(epoch_array)\n",
    "test_acc_bn = np.zeros_like(epoch_array)\n",
    "# train_acc_l1 = np.zeros_like(epoch_array)\n",
    "# test_acc_l1 = np.zeros_like(epoch_array)\n",
    "for i in range(epochs):\n",
    "    print(f'epoch {i+1} begin:')\n",
    "    train_acc_bn[i] =  train(train_dataloader, model_bn, loss_fn, optimizer_bn)\n",
    "    test_acc_bn[i] =  test(test_dataloader, model_bn, loss_fn)"
   ]
  },
  {
   "cell_type": "code",
   "execution_count": 206,
   "id": "d46692ae",
   "metadata": {},
   "outputs": [
    {
     "data": {
      "text/plain": [
       "<matplotlib.legend.Legend at 0x238529caee0>"
      ]
     },
     "execution_count": 206,
     "metadata": {},
     "output_type": "execute_result"
    },
    {
     "data": {
      "image/png": "[encoded data removed]",
      "text/plain": [
       "<Figure size 432x288 with 1 Axes>"
      ]
     },
     "metadata": {
      "needs_background": "light"
     },
     "output_type": "display_data"
    }
   ],
   "source": [
    "plt.plot(epoch_array,train_acc_bn,label='train acc batch norm')\n",
    "plt.plot(epoch_array,test_acc_bn,label='test acc batch norm')\n",
    "# plt.plot(epoch_array,train_acc_l2,label='train acc l2')\n",
    "# plt.plot(epoch_array,test_acc_l2,label='test acc l2')\n",
    "plt.legend()"
   ]
  },
  {
   "cell_type": "code",
   "execution_count": null,
   "id": "4be34fb6",
   "metadata": {},
   "outputs": [],
   "source": []
  }
 ],
 "metadata": {
  "kernelspec": {
   "display_name": "Python 3",
   "language": "python",
   "name": "python3"
  },
  "language_info": {
   "codemirror_mode": {
    "name": "ipython",
    "version": 3
   },
   "file_extension": ".py",
   "mimetype": "text/x-python",
   "name": "python",
   "nbconvert_exporter": "python",
   "pygments_lexer": "ipython3",
   "version": "3.9.4"
  },
  "toc": {
   "base_numbering": 1,
   "nav_menu": {},
   "number_sections": false,
   "sideBar": true,
   "skip_h1_title": false,
   "title_cell": "Table of Contents",
   "title_sidebar": "Contents",
   "toc_cell": false,
   "toc_position": {},
   "toc_section_display": true,
   "toc_window_display": false
  }
 },
 "nbformat": 4,
 "nbformat_minor": 5
}
